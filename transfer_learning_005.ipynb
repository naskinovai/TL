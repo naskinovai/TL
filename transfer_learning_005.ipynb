{
  "nbformat": 4,
  "nbformat_minor": 0,
  "metadata": {
    "colab": {
      "name": "transfer_learning_005.ipynb",
      "provenance": [],
      "collapsed_sections": [
        "-vPcqyNxQmtW"
      ],
      "authorship_tag": "ABX9TyPCtKHvUIIJjrX+RhU8myML",
      "include_colab_link": true
    },
    "kernelspec": {
      "name": "python3",
      "display_name": "Python 3"
    },
    "language_info": {
      "name": "python"
    }
  },
  "cells": [
    {
      "cell_type": "markdown",
      "metadata": {
        "id": "view-in-github",
        "colab_type": "text"
      },
      "source": [
        "<a href=\"https://colab.research.google.com/github/naskinovai/TL/blob/main/transfer_learning_005.ipynb\" target=\"_parent\"><img src=\"https://colab.research.google.com/assets/colab-badge.svg\" alt=\"Open In Colab\"/></a>"
      ]
    },
    {
      "cell_type": "markdown",
      "metadata": {
        "id": "hIb_Co2TpcRE"
      },
      "source": [
        "The objective of the research is to detect Cancer metastasis on histopathology images of lymph nodes using the PatchCamelyon dataset [1] hosted on Kaggle.\n",
        "Having the correct diagnosis of the advancement of the disease is crucial to choose the most suitable treatment course, this is why doctors rely on histopathology images of biopsied tissue where there might be metastasis. In this project we will train a model to automatically detect evidence of malignancy in order to help doctors make better decisions and hopefully provide better care for Cancer patients.\n",
        "The steps presented here can also serve a strong baseline to any generic image classification problem"
      ]
    },
    {
      "cell_type": "markdown",
      "metadata": {
        "id": "VJ0jEGAJ404_"
      },
      "source": [
        "Agenda:\n",
        "- how to train an image classifier was tf.keras\n",
        "- how to load and preprocess data\n",
        "- what are the various options of model building with tf.keras\n",
        "- how the model training is evaluated"
      ]
    },
    {
      "cell_type": "markdown",
      "metadata": {
        "id": "wz6xbNRl5pzF"
      },
      "source": [
        "What is image classification?\n",
        "Image classification is the task where we train a model to classify it within an image belongs to one or multiple classes."
      ]
    },
    {
      "cell_type": "markdown",
      "metadata": {
        "id": "S08LKHpm6KZJ"
      },
      "source": [
        "How to Train an Image Classifier\n",
        "\n",
        "Step 1. Data Processing\n",
        "Step 2. Model Building\n",
        "Step 3. Train and evaluate"
      ]
    },
    {
      "cell_type": "markdown",
      "metadata": {
        "id": "iwHap2CZ6epc"
      },
      "source": [
        "Transfer Learning Process\n",
        "Transfer learning with a pre-trained Resnet50 ImageNet model.\n",
        "The following data augmentations: Image resizing, random cropping, and\n",
        "horizontal and vertical axis image flipping.\n",
        "Fit one cycle method to optimise learning rate selection for our training.\n",
        "Discriminative learning rates to fine-tune."
      ]
    },
    {
      "cell_type": "markdown",
      "metadata": {
        "id": "RmbVaZ4h7KpX"
      },
      "source": [
        "optimisations and regularisation techniques in our training:\n",
        "Dropout\n",
        "Weight decay\n",
        "Batch normalisation\n",
        "Average and Max-pooling\n",
        "Adam Optimisers\n",
        "ReLU Activations"
      ]
    },
    {
      "cell_type": "markdown",
      "metadata": {
        "id": "1XfOHqa6pqoQ"
      },
      "source": [
        "Data\n",
        "The dataset is a set of 96x96 images where each image is labeled 1 if there is evidence of malignancy in the 32x32 center section of the image or 0 otherwise.\n"
      ]
    },
    {
      "cell_type": "markdown",
      "metadata": {
        "id": "CnuIDGXBpzAv"
      },
      "source": [
        "https://miro.medium.com/max/2000/1*994tgmGJLssN4R4076QEog.png"
      ]
    },
    {
      "cell_type": "markdown",
      "metadata": {
        "id": "sWbCOwL77bdQ"
      },
      "source": [
        "Data Source\n",
        "PatchCam (Kaggle)\n",
        "PCam was prepared by Bas Veeling, a Phd student in machine learning for health from the Netherlands, specifically to help machine learning practitioners interested in working on this particular problem. It consists of 327,680, 96x96 colour images. An excellent overview of the dataset can be found here: http://basveeling.nl/posts/pcam/, and also available via download on github where there is further information on the data: https://github.com/basveeling/pcam\n",
        "\n",
        "Each image is annoted with a binary label indicating presence of metastatic tissue.\n",
        "Each image is of size [96, 96,3] (colored images) with a binary label of either 0 or 1.The data-set is having a train, validation and test split."
      ]
    },
    {
      "cell_type": "markdown",
      "metadata": {
        "id": "_Bif4JLi7xCK"
      },
      "source": [
        "From the author’s words:\n",
        "PCam packs the clinically-relevant task of metastasis detection into a straight-forward binary image classification task, akin to CIFAR-10 and MNIST. Models can easily be trained on a single GPU in a couple hours, and achieve competitive scores in the Camelyon16 tasks of tumor detection and whole-slide image diagnosis. Furthermore, the balance between task-difficulty and tractability makes it a prime suspect for fundamental machine learning research on topics as active learning, model uncertainty, and explainability."
      ]
    },
    {
      "cell_type": "markdown",
      "metadata": {
        "id": "0hrFMPFgnO2p"
      },
      "source": [
        "Why PCam\n",
        "Fundamental machine learning advancements are predominantly evaluated on straight-forward natural-image classification datasets. Think MNIST, CIFAR, SVHN. Medical imaging is becoming one of the major applications of ML and we believe it deserves a spot on the list of go-to ML datasets. Both to challenge future work, and to steer developments into directions that are beneficial for this domain.\n",
        "\n",
        "We think PCam can play a role in this. It packs the clinically-relevant task of metastasis detection into a straight-forward binary image classification task, akin to CIFAR-10 and MNIST. Models can easily be trained on a single GPU in a couple hours, and achieve competitive scores in the Camelyon16 tasks of tumor detection and WSI diagnosis. Furthermore, the balance between task-difficulty and tractability makes it a prime suspect for fundamental machine learning research on topics as active learning, model uncertainty and explainability."
      ]
    },
    {
      "cell_type": "markdown",
      "metadata": {
        "id": "XpPVBhp09qeD"
      },
      "source": [
        "Loading the Data-set\n",
        "To load the data-set the first thing we will need to do is import the necessary libraries. We will then use the tfds.load() to load (downloads and then load on the first time)our data-set while setting with _info and as_supervised to True."
      ]
    },
    {
      "cell_type": "markdown",
      "metadata": {
        "id": "nM85hTwynVhi"
      },
      "source": [
        "The data is stored in gzipped HDF5 files and can be downloaded using the following links. Each set consist of a data and target file. An additional meta csv file is provided which describes from which Camelyon16 slide the patches were extracted from, but this information is not used in training for or evaluating the benchmark. Please report any downloading problems via a github issue."
      ]
    },
    {
      "cell_type": "markdown",
      "metadata": {
        "id": "W-8jheCynpRa"
      },
      "source": [
        "Numbers\n",
        "The dataset is divided into a training set of 262.144 (2^18) examples, and a validation and test set both of 32.768 (2^15) examples. There is no overlap in WSIs between the splits, and all splits have a 50/50 balance between positive and negative examples.\n",
        "\n",
        "Labeling\n",
        "A positive label indicates that the center 32x32px region of a patch contains at least one pixel of tumor tissue. Tumor tissue in the outer region of the patch does not influence the label. This outer region is provided to enable the design of fully-convolutional models that do not use any zero-padding, to ensure consistent behavior when applied to a whole-slide image. This is however not a requirement for the PCam benchmark.\n",
        "\n",
        "Patch selection\n",
        "PCam is derived from the Camelyon16 Challenge [2], which contains 400 H&E stained WSIs of sentinel lymph node sections. The slides were acquired and digitized at 2 different centers using a 40x objective (resultant pixel resolution of 0.243 microns). We undersample this at 10x to increase the field of view. We follow the train/test split from the Camelyon16 challenge [2], and further hold-out 20% of the train WSIs for the validation set. To prevent selecting background patches, slides are converted to HSV, blurred, and patches filtered out if maximum pixel saturation lies below 0.07 (which was validated to not throw out tumor data in the training set). The patch-based dataset is sampled by iteratively choosing a WSI and selecting a positive or negative patch with probability p. Patches are rejected following a stochastic hard-negative mining scheme with a small CNN, and p is adjusted to retain a balance close to 50/50."
      ]
    },
    {
      "cell_type": "markdown",
      "metadata": {
        "id": "Zc6P5gqantxL"
      },
      "source": [
        "https://github.com/basveeling/pcam"
      ]
    },
    {
      "cell_type": "markdown",
      "metadata": {
        "id": "HUra4NZbn0ft"
      },
      "source": [
        "[1] B. S. Veeling, J. Linmans, J. Winkens, T. Cohen, M. Welling. \"Rotation Equivariant CNNs for Digital Pathology\". arXiv:1806.03962\n",
        "\n",
        "A citation of the original Camelyon16 dataset paper is appreciated as well:\n",
        "\n",
        "[2] Ehteshami Bejnordi et al. Diagnostic Assessment of Deep Learning Algorithms for Detection of Lymph Node Metastases in Women With Breast Cancer. JAMA: The Journal of the American Medical Association, 318(22), 2199–2210. doi:jama.2017.14585\n",
        "\n",
        "@ARTICLE{Veeling2018-qh,\n",
        "  title         = \"Rotation Equivariant {CNNs} for Digital Pathology\",\n",
        "  author        = \"Veeling, Bastiaan S and Linmans, Jasper and Winkens, Jim and\n",
        "                   Cohen, Taco and Welling, Max\",\n",
        "  month         =  jun,\n",
        "  year          =  2018,\n",
        "  archivePrefix = \"arXiv\",\n",
        "  primaryClass  = \"cs.CV\",\n",
        "  eprint        = \"1806.03962\"\n",
        "}"
      ]
    },
    {
      "cell_type": "markdown",
      "metadata": {
        "id": "p-3-c4EN95_1"
      },
      "source": [
        "the tfds.load() on line 9, setting with_info = True returns information about our data-set which is then stored in the variable we declared"
      ]
    },
    {
      "cell_type": "markdown",
      "metadata": {
        "id": "Rk_h1HTPp4jg"
      },
      "source": [
        "Augmentation\n",
        "In order to reduce overfitting and increase the generalization capabilities of the model we use data augmentation, which is a sequence of random perturbations applied to the image that preserve the label information. Training with those perturbation also makes the model more robust to noise and increase its invariance to translation and rotation."
      ]
    },
    {
      "cell_type": "markdown",
      "metadata": {
        "id": "Iq_o2gJRp-U_"
      },
      "source": [
        "https://miro.medium.com/max/2000/1*pYIVaZQPxLvK0RRg0psJSQ.png\n"
      ]
    },
    {
      "cell_type": "markdown",
      "metadata": {
        "id": "IHKdPXs5onc1"
      },
      "source": [
        "https://github.com/Sanatramesh/PCamNet/blob/master/PCamNet%20Visualizer.ipynb"
      ]
    },
    {
      "cell_type": "markdown",
      "metadata": {
        "id": "dSsJ0v-z-IID"
      },
      "source": [
        "as_supervised = True loads our data-set as a(image, label) tuple structure."
      ]
    },
    {
      "cell_type": "markdown",
      "metadata": {
        "id": "-7YyNpMWpPO3"
      },
      "source": [
        "https://towardsdatascience.com/metastasis-detection-using-cnns-transfer-learning-and-data-augmentation-684761347b59\n"
      ]
    },
    {
      "cell_type": "markdown",
      "metadata": {
        "id": "SkrRfKju-Orw"
      },
      "source": [
        "Our data-set consists of train, validation and test splits. line 12,13, 14 assigns each individual split in their respective variables"
      ]
    },
    {
      "cell_type": "code",
      "metadata": {
        "id": "RfgRHD_29Xv8"
      },
      "source": [
        "#Importing the necessary libraries\n",
        "\n",
        "from tensorflow import keras\n",
        "import tensorflow as tf\n",
        "import os,datetime\n",
        "import tensorflow_datasets as tfds\n",
        "\n",
        "#Loading the data from tensorflow_datasets\n",
        "df, info = tfds.load('patch_camelyon', with_info = True, as_supervised = True)\n",
        "\n",
        "#Getting the train, validation and test data\n",
        "train_data = df['train']\n",
        "valid_data = df['validation']\n",
        "test_data = df['test']"
      ],
      "execution_count": 1,
      "outputs": []
    },
    {
      "cell_type": "markdown",
      "metadata": {
        "id": "8mNPS1f6-bRT"
      },
      "source": [
        "PREPROCESS THE DATA\n",
        "Before feeding our data into the CNN it will have to go through some form of preprocessing.\n",
        "Each pixels of the image in our data-set ranges from 0 to 255 which we will scale to between 0 and 1.\n",
        "After then we batch and prefetch train, validation and test data. \n",
        "Prefetch will grab the next dataset item \"in advance\" while the current one is being processed to reduce latency. Since dataset operations are usually done on the CPU, the idea is that you can take advantage of the unused CPU power (and I/O bandwidth) while the GPU is processing a batch. Most dataset input pipelines should end with a call to prefetch. This allows later elements to be prepared while the current element is being processed. This often improves latency and throughput, at the cost of using additional memory to store prefetched elements.\n",
        "It can be used to decouple the time when data is produced from the time when data is consumed. In particular, the transformation uses a background thread and an internal buffer to prefetch elements from the input dataset ahead of the time they are requested.  "
      ]
    },
    {
      "cell_type": "markdown",
      "metadata": {
        "id": "SfBfc_u67w0Y"
      },
      "source": [
        "Transfer learning + Fine-tuning = Better Generalisation\n",
        "Transfer learning alone brings us much further than training our network from scratch. But this method is prone to optimisation difficulties present between fragile co-adpated layers when connecting a per-trained network. We counter this by fine-tuning our model; making the all layers of our network, including the pre-trained Resnet50 layers, to be trainable. When we unfreeze we train across all of our layers. (See [6])\n",
        "\n",
        "This leads to better results and a better ability to generalise to new examples."
      ]
    },
    {
      "cell_type": "markdown",
      "metadata": {
        "id": "dRZp48FLqT9w"
      },
      "source": [
        "Model\n",
        "We use NasNet mobile pretrained on ImageNet (see Transfer Learning ) because its fast and thus can be fully trained on Kaggle kernels within the 6 hours time limit.\n",
        "https://www.kaggle.com/CVxTz/cnn-starter-nasnet-mobile-0-9709-lb\n"
      ]
    },
    {
      "cell_type": "markdown",
      "metadata": {
        "id": "iYTijVB_qbpH"
      },
      "source": [
        "Training\n",
        "We use a small portion of the training set as validation, and then use model Checkpoint Keras Callback to save the best weights and load them before we do the prediction on the Leaderboard data."
      ]
    },
    {
      "cell_type": "markdown",
      "metadata": {
        "id": "8HbyIzTSqjQN"
      },
      "source": [
        "Prediction and Post processing\n",
        "For each image of the test set we average the predictions of the original image and that of the horizontally/vertically flipped versions."
      ]
    },
    {
      "cell_type": "code",
      "metadata": {
        "id": "uzhuhzqt7KDn"
      },
      "source": [
        ""
      ],
      "execution_count": null,
      "outputs": []
    },
    {
      "cell_type": "code",
      "metadata": {
        "id": "eretbsD76HpX"
      },
      "source": [
        ""
      ],
      "execution_count": null,
      "outputs": []
    },
    {
      "cell_type": "code",
      "metadata": {
        "id": "UCFoMOAkHxrf"
      },
      "source": [
        "#Transfer Learning with a Pretrained ConvNet"
      ],
      "execution_count": 2,
      "outputs": []
    },
    {
      "cell_type": "code",
      "metadata": {
        "id": "AVa5z4EppXkK"
      },
      "source": [
        "%tensorflow_version 2.x"
      ],
      "execution_count": 3,
      "outputs": []
    },
    {
      "cell_type": "code",
      "metadata": {
        "id": "67WEpxUSpZTa"
      },
      "source": [
        "import tensorflow as tf"
      ],
      "execution_count": 4,
      "outputs": []
    },
    {
      "cell_type": "code",
      "metadata": {
        "colab": {
          "base_uri": "https://localhost:8080/",
          "height": 36
        },
        "id": "GRBZX2SVqXp9",
        "outputId": "ce36f7d1-2abb-4ddd-8c66-ad294a882fed"
      },
      "source": [
        "tf.version.VERSION"
      ],
      "execution_count": 5,
      "outputs": [
        {
          "output_type": "execute_result",
          "data": {
            "application/vnd.google.colaboratory.intrinsic+json": {
              "type": "string"
            },
            "text/plain": [
              "'2.6.0'"
            ]
          },
          "metadata": {},
          "execution_count": 5
        }
      ]
    },
    {
      "cell_type": "code",
      "metadata": {
        "id": "iOEScKbQrjI2"
      },
      "source": [
        "import numpy as np\n",
        "import matplotlib.pyplot as plt\n",
        "\n",
        "#Import Tensorflow datasets\n",
        "import tensorflow_datasets as tfds\n",
        "tfds.disable_progress_bar()\n",
        "\n",
        "#Import Keras\n",
        "from tensorflow import keras\n",
        "from tensorflow.keras.applications import MobileNetV2\n",
        "from tensorflow.keras.models import Sequential\n",
        "from tensorflow.keras.layers import Dense, Conv2D, Flatten, Dropout, MaxPooling2D, GlobalAveragePooling2D\n",
        "from tensorflow.keras.optimizers import Adam\n",
        "\n",
        "from tensorflow.keras.preprocessing.image import load_img\n",
        "from tensorflow.keras.preprocessing.image import img_to_array\n",
        "\n",
        "from keras.applications.imagenet_utils import decode_predictions"
      ],
      "execution_count": 6,
      "outputs": []
    },
    {
      "cell_type": "markdown",
      "metadata": {
        "id": "p7qapiGkDNRG"
      },
      "source": [
        "#Data pipeline"
      ]
    },
    {
      "cell_type": "code",
      "metadata": {
        "id": "invcLorgDL9c"
      },
      "source": [
        "# #Load train and validation datasets\n",
        "# (raw_train, raw_validation, raw_test), metadata = tfds.load(\n",
        "#     name='patch_camelyon',\n",
        "#     with_info=True,\n",
        "#     as_supervised=True\n",
        "# )"
      ],
      "execution_count": 7,
      "outputs": []
    },
    {
      "cell_type": "code",
      "metadata": {
        "colab": {
          "base_uri": "https://localhost:8080/"
        },
        "id": "O6eNqsy9HxMg",
        "outputId": "e720836d-d88a-44ad-83a3-ce6a26a2ee47"
      },
      "source": [
        "# print('Total number of samples:', metadata.splits['train'].num_examples)"
      ],
      "execution_count": 17,
      "outputs": [
        {
          "output_type": "stream",
          "name": "stdout",
          "text": [
            "Total number of samples: 262144\n"
          ]
        }
      ]
    },
    {
      "cell_type": "code",
      "metadata": {
        "colab": {
          "base_uri": "https://localhost:8080/"
        },
        "id": "WdQGOBdEMP6-",
        "outputId": "e3de96b8-4154-4743-b518-352dd3a3dc94"
      },
      "source": [
        "# print('Total number of test samples:', metadata.splits['test'].num_examples)"
      ],
      "execution_count": 18,
      "outputs": [
        {
          "output_type": "stream",
          "name": "stdout",
          "text": [
            "Total number of test samples: 32768\n"
          ]
        }
      ]
    },
    {
      "cell_type": "code",
      "metadata": {
        "colab": {
          "base_uri": "https://localhost:8080/"
        },
        "id": "S3WbFgVeMad7",
        "outputId": "ea0c7e69-5c7b-4ff6-9cdb-e6e73cbb917c"
      },
      "source": [
        "# print('Total number of validation samples:', metadata.splits['validation'].num_examples)"
      ],
      "execution_count": 19,
      "outputs": [
        {
          "output_type": "stream",
          "name": "stdout",
          "text": [
            "Total number of validation samples: 32768\n"
          ]
        }
      ]
    },
    {
      "cell_type": "code",
      "metadata": {
        "id": "_AYcaBmPIYC1"
      },
      "source": [
        "# num_classes = metadata.features['label'].num_classes\n",
        "# num_train = len(list(raw_train))\n",
        "# num_validation = len(list(raw_validation))\n",
        "# num_test = len(list(raw_test))"
      ],
      "execution_count": 20,
      "outputs": []
    },
    {
      "cell_type": "code",
      "metadata": {
        "colab": {
          "base_uri": "https://localhost:8080/"
        },
        "id": "hVRQsd7kPGP9",
        "outputId": "28c81256-7ea2-4737-e282-9f192870083e"
      },
      "source": [
        "# print(f'Number of classes: {num_classes}')\n",
        "# print(f'Number of training samples: {num_train}')\n",
        "# print(f'Number of validation samples: {num_validation}')\n",
        "# print(f'Number of test samples: {num_test}')"
      ],
      "execution_count": 21,
      "outputs": [
        {
          "output_type": "stream",
          "name": "stdout",
          "text": [
            "Number of classes: 2\n",
            "Number of training samples: 4\n",
            "Number of validation samples: 5\n",
            "Number of test samples: 10\n"
          ]
        }
      ]
    },
    {
      "cell_type": "code",
      "metadata": {
        "colab": {
          "base_uri": "https://localhost:8080/"
        },
        "id": "Q-b9BXS6QDEy",
        "outputId": "53c6ef24-8c19-47d7-e904-f6b314737dcb"
      },
      "source": [
        "# print(raw_train)\n",
        "# print(raw_validation)\n",
        "# print(raw_test)"
      ],
      "execution_count": 22,
      "outputs": [
        {
          "output_type": "stream",
          "name": "stdout",
          "text": [
            "test\n",
            "train\n",
            "validation\n"
          ]
        }
      ]
    },
    {
      "cell_type": "code",
      "metadata": {
        "colab": {
          "base_uri": "https://localhost:8080/"
        },
        "id": "YN7k0r6mQVTV",
        "outputId": "996a0f5c-e942-4988-928d-12fbeb5a4e63"
      },
      "source": [
        "# class_names = np.array(metadata.features['label'].names)\n",
        "# print(class_names)"
      ],
      "execution_count": 23,
      "outputs": [
        {
          "output_type": "stream",
          "name": "stdout",
          "text": [
            "['0' '1']\n"
          ]
        }
      ]
    },
    {
      "cell_type": "code",
      "metadata": {
        "id": "zxRAcYkVWClq"
      },
      "source": [
        "#Importing the necessary libraries\n",
        "\n",
        "from tensorflow import keras\n",
        "import tensorflow as tf\n",
        "import os,datetime\n",
        "import tensorflow_datasets as tfds\n",
        "\n",
        "#Loading the data from tensorflow_datasets\n",
        "df, info = tfds.load('patch_camelyon', with_info = True, as_supervised = True)\n",
        "\n",
        "#Getting the train, validation and test data\n",
        "train_data = df['train']\n",
        "valid_data = df['validation']\n",
        "test_data = df['test']"
      ],
      "execution_count": 8,
      "outputs": []
    },
    {
      "cell_type": "code",
      "metadata": {
        "id": "UsYxaPHjV-Xc"
      },
      "source": [
        "#A function to help scale the images\n",
        "def preprocess(image, labels):\n",
        "  image = tf.cast(image, tf.float32)\n",
        "  image /= 255.\n",
        "  return image, labels\n",
        "\n",
        "#Applying the preprocess function we the use of map() method\n",
        "train_data = train_data.map(preprocess)\n",
        "valid_data = valid_data.map(preprocess)\n",
        "test_data = test_data.map(preprocess)\n",
        "\n",
        "#Shuffling the train_data\n",
        "buffer_size = 1000\n",
        "train_data = train_data.shuffle(buffer_size)\n",
        "\n",
        "#Batching and prefetching\n",
        "batch_size = 128\n",
        "train_data = train_data.batch(batch_size).prefetch(1)\n",
        "valid_data = valid_data.batch(batch_size).prefetch(1)\n",
        "test_data = test_data.batch(batch_size).prefetch(1)"
      ],
      "execution_count": 9,
      "outputs": []
    },
    {
      "cell_type": "code",
      "metadata": {
        "colab": {
          "base_uri": "https://localhost:8080/"
        },
        "id": "PtSDScM6WUUl",
        "outputId": "379e37b3-9ea9-4bef-f44b-a041c1c5bd1a"
      },
      "source": [
        "#Seperating image and label into different variables\n",
        "train_images, train_labels = next(iter(train_data))\n",
        "valid_images, valid_labels = next(iter(valid_data))\n",
        "test_images, test_labels  = next(iter(test_data))\n",
        "\n",
        "#Checking the label shape\n",
        "valid_labels.shape\n",
        "print(valid_labels.shape)\n",
        "#Checking the image shape\n",
        "train_images.shape\n",
        "print(train_images.shape)"
      ],
      "execution_count": 10,
      "outputs": [
        {
          "output_type": "stream",
          "name": "stdout",
          "text": [
            "(128,)\n",
            "(128, 96, 96, 3)\n"
          ]
        }
      ]
    },
    {
      "cell_type": "code",
      "metadata": {
        "id": "tJL-t5RIWZaN"
      },
      "source": [
        "IMG_SHAPE=[96, 96, 3]"
      ],
      "execution_count": 11,
      "outputs": []
    },
    {
      "cell_type": "markdown",
      "metadata": {
        "id": "aOXxETymR8qJ"
      },
      "source": [
        "iter() goes through the data to separate image and label remember we set as_supervise = True\n",
        "next() moves on to the next batch\n",
        "We then check the shape of our label which gives (128,1), note that the first item is our batch_size not the total numbers of labels in our data-set\n",
        "train_images.shape returns TensorShape([128, 96, 96, 3]) The first item also is our batch_size while the shape of the images in our data-set is [96,96,3] i.e our input_shape"
      ]
    },
    {
      "cell_type": "code",
      "metadata": {
        "id": "WwTNFkzsSfpT"
      },
      "source": [
        "#import the necessary libraries\n",
        "from tensorflow.keras import Sequential \n",
        "from tensorflow.keras.layers import Conv2D, MaxPooling2D, Dense, Flatten, BatchNormalization, Dropout\n",
        "from tensorflow.keras import layers\n",
        "from tensorflow.keras import optimizers\n",
        "from tensorflow.keras import regularizers\n",
        "\n",
        "model = Sequential([\n",
        "                    Conv2D(256, 3,padding='same', kernel_initializer='he_uniform', activation='relu', input_shape = IMG_SHAPE),\n",
        "                    MaxPooling2D(2),\n",
        "                    Conv2D(256, 3,padding='same', kernel_initializer='he_uniform',activation='relu',),\n",
        "                    MaxPooling2D(2),\n",
        "                    Conv2D(512, 3,padding='same',kernel_initializer='he_uniform',activation='relu',),\n",
        "                    MaxPooling2D(2),\n",
        "                    Conv2D(512, 3,padding='same',kernel_initializer='he_uniform',activation='relu',),\n",
        "                    MaxPooling2D(2),\n",
        "                    Conv2D(1024, 3,padding='same', kernel_initializer='he_uniform',activation='relu',),\n",
        "                    MaxPooling2D(2),\n",
        "                    Conv2D(1024, 3,padding='same', kernel_initializer='he_uniform',activation='relu',),\n",
        "                    MaxPooling2D(2),\n",
        "                    Flatten(),\n",
        "                    Dense(1028,kernel_initializer='he_uniform',activation = 'relu'),\n",
        "                    Dense(512,kernel_initializer='he_uniform',activation = 'relu'),\n",
        "                    Dense(128, kernel_initializer='he_uniform',activation = 'relu'),\n",
        "                    Dense(1, activation = 'sigmoid'),\n",
        "                    ])\n",
        " "
      ],
      "execution_count": 12,
      "outputs": []
    },
    {
      "cell_type": "markdown",
      "metadata": {
        "id": "FB-jjdsrStOv"
      },
      "source": [
        "Our first layer consist of 256 number of filters each of size 3 (i.e 3 x 3) and our input_shape variable also goes to the first layer\n",
        "The next layer consist of maxpooling with a pool size of 2\n",
        "The same was repeated, with an increase in the number of filters 256,512, 1024\n",
        "for the layers having (padding = same)each image will be padded\n",
        "Kernel_initializer is use to randomness weight at the start of the training\n",
        "activation function used was ‘relu’\n",
        "flatten layer flattens the shape of our images before passing on to the Dense layer\n",
        "We have three Dense hidden layer with hidden units of 1024, 512, 128\n",
        "We expects our model to return a single output i.e 0 or 1 so our output layer contains just 1 hidden unit with a ‘sigmoid’ activation function"
      ]
    },
    {
      "cell_type": "code",
      "metadata": {
        "colab": {
          "base_uri": "https://localhost:8080/"
        },
        "id": "Zt0INUObSswd",
        "outputId": "0f118074-a73a-4bd3-b414-3ac525d2ad4c"
      },
      "source": [
        "model.summary()"
      ],
      "execution_count": 13,
      "outputs": [
        {
          "output_type": "stream",
          "name": "stdout",
          "text": [
            "Model: \"sequential\"\n",
            "_________________________________________________________________\n",
            "Layer (type)                 Output Shape              Param #   \n",
            "=================================================================\n",
            "conv2d (Conv2D)              (None, 96, 96, 256)       7168      \n",
            "_________________________________________________________________\n",
            "max_pooling2d (MaxPooling2D) (None, 48, 48, 256)       0         \n",
            "_________________________________________________________________\n",
            "conv2d_1 (Conv2D)            (None, 48, 48, 256)       590080    \n",
            "_________________________________________________________________\n",
            "max_pooling2d_1 (MaxPooling2 (None, 24, 24, 256)       0         \n",
            "_________________________________________________________________\n",
            "conv2d_2 (Conv2D)            (None, 24, 24, 512)       1180160   \n",
            "_________________________________________________________________\n",
            "max_pooling2d_2 (MaxPooling2 (None, 12, 12, 512)       0         \n",
            "_________________________________________________________________\n",
            "conv2d_3 (Conv2D)            (None, 12, 12, 512)       2359808   \n",
            "_________________________________________________________________\n",
            "max_pooling2d_3 (MaxPooling2 (None, 6, 6, 512)         0         \n",
            "_________________________________________________________________\n",
            "conv2d_4 (Conv2D)            (None, 6, 6, 1024)        4719616   \n",
            "_________________________________________________________________\n",
            "max_pooling2d_4 (MaxPooling2 (None, 3, 3, 1024)        0         \n",
            "_________________________________________________________________\n",
            "conv2d_5 (Conv2D)            (None, 3, 3, 1024)        9438208   \n",
            "_________________________________________________________________\n",
            "max_pooling2d_5 (MaxPooling2 (None, 1, 1, 1024)        0         \n",
            "_________________________________________________________________\n",
            "flatten (Flatten)            (None, 1024)              0         \n",
            "_________________________________________________________________\n",
            "dense (Dense)                (None, 1028)              1053700   \n",
            "_________________________________________________________________\n",
            "dense_1 (Dense)              (None, 512)               526848    \n",
            "_________________________________________________________________\n",
            "dense_2 (Dense)              (None, 128)               65664     \n",
            "_________________________________________________________________\n",
            "dense_3 (Dense)              (None, 1)                 129       \n",
            "=================================================================\n",
            "Total params: 19,941,381\n",
            "Trainable params: 19,941,381\n",
            "Non-trainable params: 0\n",
            "_________________________________________________________________\n"
          ]
        }
      ]
    },
    {
      "cell_type": "markdown",
      "metadata": {
        "id": "2_eJuBEiS6Dt"
      },
      "source": [
        "Adam optimizer was used with a learning rate of 0.0001\n",
        "since our labels are already encoded to 0’s and 1’s we are going to use ‘binary_crossentropy’ has our loss function\n",
        "Early stopping callback was also implemented to monitor our val_loss and to stop the model if there is no increase in val_loss for 10 epochs\n",
        "model.fit() will start the training of our model"
      ]
    },
    {
      "cell_type": "code",
      "metadata": {
        "colab": {
          "base_uri": "https://localhost:8080/"
        },
        "id": "aprVs2NoWim8",
        "outputId": "b30489e6-43ec-4dff-c19f-ffd9dd2af83e"
      },
      "source": [
        "#Compiling our model\n",
        "model.compile(optimizer= optimizers.Adam(1e-4), loss='binary_crossentropy', metrics=['acc'])\n",
        "\n",
        "#Callbacks\n",
        "early_stopping_cb = keras.callbacks.EarlyStopping(monitor='val_loss', patience=10)\n",
        "\n",
        "#Fitting our model\n",
        "history = model.fit( train_images, train_labels, epochs = 100, callbacks=[early_stopping_cb], validation_data = (valid_images, valid_labels), verbose=2)\n"
      ],
      "execution_count": 14,
      "outputs": [
        {
          "output_type": "stream",
          "name": "stdout",
          "text": [
            "Epoch 1/100\n",
            "4/4 - 65s - loss: 2.8425 - acc: 0.4453 - val_loss: 0.7020 - val_acc: 0.5859\n",
            "Epoch 2/100\n",
            "4/4 - 66s - loss: 0.7777 - acc: 0.4922 - val_loss: 0.6960 - val_acc: 0.4141\n",
            "Epoch 3/100\n",
            "4/4 - 62s - loss: 0.7398 - acc: 0.3672 - val_loss: 0.8729 - val_acc: 0.4141\n",
            "Epoch 4/100\n",
            "4/4 - 63s - loss: 0.7511 - acc: 0.5234 - val_loss: 0.6798 - val_acc: 0.5859\n",
            "Epoch 5/100\n",
            "4/4 - 62s - loss: 0.7511 - acc: 0.5469 - val_loss: 0.8900 - val_acc: 0.4141\n",
            "Epoch 6/100\n",
            "4/4 - 63s - loss: 0.7099 - acc: 0.5703 - val_loss: 0.6620 - val_acc: 0.5859\n",
            "Epoch 7/100\n",
            "4/4 - 63s - loss: 0.7074 - acc: 0.4609 - val_loss: 0.6869 - val_acc: 0.4844\n",
            "Epoch 8/100\n",
            "4/4 - 62s - loss: 0.7058 - acc: 0.5547 - val_loss: 0.7228 - val_acc: 0.4141\n",
            "Epoch 9/100\n",
            "4/4 - 63s - loss: 0.6211 - acc: 0.7656 - val_loss: 0.6114 - val_acc: 0.6719\n",
            "Epoch 10/100\n",
            "4/4 - 62s - loss: 0.6214 - acc: 0.6562 - val_loss: 0.6726 - val_acc: 0.5781\n",
            "Epoch 11/100\n",
            "4/4 - 62s - loss: 0.5854 - acc: 0.7031 - val_loss: 0.5675 - val_acc: 0.7344\n",
            "Epoch 12/100\n",
            "4/4 - 62s - loss: 0.5501 - acc: 0.7891 - val_loss: 0.5423 - val_acc: 0.7734\n",
            "Epoch 13/100\n",
            "4/4 - 63s - loss: 0.5275 - acc: 0.7422 - val_loss: 0.5369 - val_acc: 0.7344\n",
            "Epoch 14/100\n",
            "4/4 - 62s - loss: 0.5099 - acc: 0.7578 - val_loss: 0.5619 - val_acc: 0.7109\n",
            "Epoch 15/100\n",
            "4/4 - 62s - loss: 0.4565 - acc: 0.8203 - val_loss: 0.6767 - val_acc: 0.6719\n",
            "Epoch 16/100\n",
            "4/4 - 63s - loss: 0.4935 - acc: 0.7500 - val_loss: 0.7155 - val_acc: 0.6328\n",
            "Epoch 17/100\n",
            "4/4 - 63s - loss: 0.4501 - acc: 0.7734 - val_loss: 0.5069 - val_acc: 0.7656\n",
            "Epoch 18/100\n",
            "4/4 - 62s - loss: 0.4333 - acc: 0.7891 - val_loss: 0.5150 - val_acc: 0.7500\n",
            "Epoch 19/100\n",
            "4/4 - 62s - loss: 0.3436 - acc: 0.8516 - val_loss: 0.7255 - val_acc: 0.6641\n",
            "Epoch 20/100\n",
            "4/4 - 62s - loss: 0.3461 - acc: 0.8750 - val_loss: 0.5293 - val_acc: 0.7422\n",
            "Epoch 21/100\n",
            "4/4 - 63s - loss: 0.3327 - acc: 0.8594 - val_loss: 0.6179 - val_acc: 0.6953\n",
            "Epoch 22/100\n",
            "4/4 - 62s - loss: 0.2878 - acc: 0.8906 - val_loss: 0.6277 - val_acc: 0.7344\n",
            "Epoch 23/100\n",
            "4/4 - 63s - loss: 0.2691 - acc: 0.8828 - val_loss: 0.5718 - val_acc: 0.7500\n",
            "Epoch 24/100\n",
            "4/4 - 62s - loss: 0.2497 - acc: 0.9219 - val_loss: 0.6318 - val_acc: 0.7266\n",
            "Epoch 25/100\n",
            "4/4 - 62s - loss: 0.2752 - acc: 0.8828 - val_loss: 0.8214 - val_acc: 0.6641\n",
            "Epoch 26/100\n",
            "4/4 - 62s - loss: 0.1879 - acc: 0.9609 - val_loss: 0.6082 - val_acc: 0.7188\n",
            "Epoch 27/100\n",
            "4/4 - 63s - loss: 0.2600 - acc: 0.8906 - val_loss: 0.5815 - val_acc: 0.7188\n"
          ]
        }
      ]
    },
    {
      "cell_type": "code",
      "metadata": {
        "id": "5iUPPe9WZWnA"
      },
      "source": [
        "NUM_EPOCHS=100"
      ],
      "execution_count": 15,
      "outputs": []
    },
    {
      "cell_type": "code",
      "metadata": {
        "colab": {
          "base_uri": "https://localhost:8080/",
          "height": 545
        },
        "id": "J9UgWBDKWqcE",
        "outputId": "abb9808a-f9d9-4f82-d2d7-e376730b3fbf"
      },
      "source": [
        "import matplotlib.pyplot as plt\n",
        "acc = history.history['acc']\n",
        "val_acc = history.history['val_acc']\n",
        "loss = history.history['loss']\n",
        "val_loss = history.history['val_loss']\n",
        "epochs = range(1, len(acc) + 1)\n",
        "plt.plot(epochs, acc, 'bo', label='Training acc')\n",
        "plt.plot(epochs, val_acc, 'b', label='Validation acc')\n",
        "plt.title('Training and validation accuracy')\n",
        "plt.legend()\n",
        "plt.figure()\n",
        "plt.plot(epochs, loss, 'bo', label='Training loss')\n",
        "plt.plot(epochs, val_loss, 'b', label='Validation loss')\n",
        "plt.title('Training and validation loss')\n",
        "plt.legend()\n",
        "plt.show()"
      ],
      "execution_count": 16,
      "outputs": [
        {
          "output_type": "display_data",
          "data": {
            "image/png": "[encoded data removed]",
            "text/plain": [
              "<Figure size 432x288 with 1 Axes>"
            ]
          },
          "metadata": {
            "needs_background": "light"
          }
        },
        {
          "output_type": "display_data",
          "data": {
            "image/png": "[encoded data removed]",
            "text/plain": [
              "<Figure size 432x288 with 1 Axes>"
            ]
          },
          "metadata": {
            "needs_background": "light"
          }
        }
      ]
    },
    {
      "cell_type": "code",
      "metadata": {
        "colab": {
          "base_uri": "https://localhost:8080/"
        },
        "id": "phu_TedwWu-2",
        "outputId": "67f27475-e74c-4a10-99cc-0e5a065772cc"
      },
      "source": [
        "model.evaluate(test_images, test_labels)"
      ],
      "execution_count": 15,
      "outputs": [
        {
          "output_type": "stream",
          "name": "stdout",
          "text": [
            "4/4 [==============================] - 12s 3s/step - loss: 0.7452 - acc: 0.6016\n"
          ]
        },
        {
          "output_type": "execute_result",
          "data": {
            "text/plain": [
              "[0.7451815009117126, 0.6015625]"
            ]
          },
          "metadata": {},
          "execution_count": 15
        }
      ]
    },
    {
      "cell_type": "markdown",
      "metadata": {
        "id": "-vPcqyNxQmtW"
      },
      "source": [
        "#Visualize the data"
      ]
    },
    {
      "cell_type": "code",
      "metadata": {
        "id": "kbpNjXBFFwc4"
      },
      "source": [
        "#Set the training parameters\n",
        "NUM_EPOCHS = 10\n",
        "steps_per_epoch = round(num_train)//BATCH_SIZE\n",
        "validation_steps = round(num_validation)//BATCH_SIZE"
      ],
      "execution_count": null,
      "outputs": []
    },
    {
      "cell_type": "code",
      "metadata": {
        "id": "_08Vrtz3Hp1C"
      },
      "source": [
        "#Baseline -- train from scratch\n",
        "#Train a very simple CNN model and use the accuracy matrics as baseline to compare with tranfer learning results."
      ],
      "execution_count": null,
      "outputs": []
    },
    {
      "cell_type": "markdown",
      "metadata": {
        "id": "1WBZpdAuINsh"
      },
      "source": [
        "#Baseline -- train from scratch\n",
        "##Train a very simple CNN model and use the accuracy matrics as baseline to compare with tranfer learning results."
      ]
    },
    {
      "cell_type": "code",
      "metadata": {
        "id": "gDlVePxxGNIz"
      },
      "source": [
        "# Display training curves\n",
        "def display_training_curves(history, num_epochs,title):\n",
        "  acc=history.history['acc']\n",
        "  val_acc = history.history['val_acc']\n",
        "\n",
        "  loss = history.history['loss']\n",
        "  val_loss = history.history['val_loss']\n",
        "\n",
        "  epoch_range = range(num_epochs)\n",
        "\n",
        "  plt.plot(epoch_range, acc, label='Train accuracy')\n",
        "  plt.plot(epoch_range, val_acc, label='Val accuracy')\n",
        "  plt.title(title)\n",
        "  plt.legend(loc='upper left')\n",
        "  plt.figure()\n",
        "\n",
        "  plt.show()"
      ],
      "execution_count": 17,
      "outputs": []
    },
    {
      "cell_type": "markdown",
      "metadata": {
        "id": "7fzOtmzRIas7"
      },
      "source": [
        "Create model"
      ]
    },
    {
      "cell_type": "markdown",
      "metadata": {
        "id": "Xav7YNjUKa8r"
      },
      "source": [
        "Compile and train the model\n"
      ]
    },
    {
      "cell_type": "code",
      "metadata": {
        "colab": {
          "base_uri": "https://localhost:8080/",
          "height": 298
        },
        "id": "AmQF1FHbL2uL",
        "outputId": "a64f9855-21b0-4db3-fa2f-98040aecaefb"
      },
      "source": [
        "# Display training curve\n",
        "display_training_curves(history,27, \"A CNN Model\")"
      ],
      "execution_count": 21,
      "outputs": [
        {
          "output_type": "display_data",
          "data": {
            "image/png": "[encoded data removed]",
            "text/plain": [
              "<Figure size 432x288 with 1 Axes>"
            ]
          },
          "metadata": {
            "needs_background": "light"
          }
        },
        {
          "output_type": "display_data",
          "data": {
            "text/plain": [
              "<Figure size 432x288 with 0 Axes>"
            ]
          },
          "metadata": {}
        }
      ]
    },
    {
      "cell_type": "markdown",
      "metadata": {
        "id": "kwOSON5dMrZr"
      },
      "source": [
        "#Transfer learning\n"
      ]
    },
    {
      "cell_type": "code",
      "metadata": {
        "id": "8Wgtco0cu3zp"
      },
      "source": [
        "from keras.applications.nasnet import preprocess_input\n",
        "from keras.callbacks import ModelCheckpoint\n",
        "from keras.applications.nasnet import NASNetMobile\n",
        "from keras.layers import Dense, Input, Dropout, Concatenate, GlobalMaxPooling2D, GlobalAveragePooling2D\n",
        "from keras.layers import Flatten\n",
        "from keras.losses import binary_crossentropy\n",
        "from keras.models import Model"
      ],
      "execution_count": 23,
      "outputs": []
    },
    {
      "cell_type": "code",
      "metadata": {
        "colab": {
          "base_uri": "https://localhost:8080/"
        },
        "id": "ZDrzk9CbvD9v",
        "outputId": "ac5c4313-48e2-4f45-f54f-23068597dbb1"
      },
      "source": [
        "def get_model_classif_nasnet():\n",
        "    inputs = Input((224, 224, 3))\n",
        "    base_model = NASNetMobile(include_top=False, input_shape=(224, 224, 3))#, weights=None\n",
        "    x = base_model(inputs)\n",
        "    out1 = GlobalMaxPooling2D()(x)\n",
        "    out2 = GlobalAveragePooling2D()(x)\n",
        "    out3 = Flatten()(x)\n",
        "    out = Concatenate(axis=-1)([out1, out2, out3])\n",
        "    out = Dropout(0.5)(out)\n",
        "    out = Dense(1, activation=\"sigmoid\", name=\"3_\")(out)\n",
        "    model = Model(inputs, out)\n",
        "    model.compile(optimizer=Adam(0.0001), loss=binary_crossentropy, metrics=['acc'])\n",
        "    model.summary()\n",
        "\n",
        "    return model\n",
        "\n",
        "model = get_model_classif_nasnet()"
      ],
      "execution_count": 26,
      "outputs": [
        {
          "output_type": "stream",
          "name": "stdout",
          "text": [
            "Model: \"model_1\"\n",
            "__________________________________________________________________________________________________\n",
            "Layer (type)                    Output Shape         Param #     Connected to                     \n",
            "==================================================================================================\n",
            "input_4 (InputLayer)            [(None, 224, 224, 3) 0                                            \n",
            "__________________________________________________________________________________________________\n",
            "NASNet (Functional)             (None, 7, 7, 1056)   4269716     input_4[0][0]                    \n",
            "__________________________________________________________________________________________________\n",
            "global_max_pooling2d_1 (GlobalM (None, 1056)         0           NASNet[0][0]                     \n",
            "__________________________________________________________________________________________________\n",
            "global_average_pooling2d_1 (Glo (None, 1056)         0           NASNet[0][0]                     \n",
            "__________________________________________________________________________________________________\n",
            "flatten_2 (Flatten)             (None, 51744)        0           NASNet[0][0]                     \n",
            "__________________________________________________________________________________________________\n",
            "concatenate_9 (Concatenate)     (None, 53856)        0           global_max_pooling2d_1[0][0]     \n",
            "                                                                 global_average_pooling2d_1[0][0] \n",
            "                                                                 flatten_2[0][0]                  \n",
            "__________________________________________________________________________________________________\n",
            "dropout_1 (Dropout)             (None, 53856)        0           concatenate_9[0][0]              \n",
            "__________________________________________________________________________________________________\n",
            "3_ (Dense)                      (None, 1)            53857       dropout_1[0][0]                  \n",
            "==================================================================================================\n",
            "Total params: 4,323,573\n",
            "Trainable params: 4,286,835\n",
            "Non-trainable params: 36,738\n",
            "__________________________________________________________________________________________________\n"
          ]
        }
      ]
    },
    {
      "cell_type": "markdown",
      "metadata": {
        "id": "e1lBsDNaM2UJ"
      },
      "source": [
        "Feature extractor\n",
        "Use MobileNetV2 as a feature extractor and add a classifier on top of it."
      ]
    },
    {
      "cell_type": "code",
      "metadata": {
        "id": "ogarcMgCMyEG"
      },
      "source": [
        "#Create base model from tf.keras pre-trained model MobileNetV2\n",
        "base_model = MobileNetV2(\n",
        "    input_shape=IMG_SHAPE,\n",
        "    weights='imagenet',\n",
        "    include_top=False\n",
        "    )\n"
      ],
      "execution_count": 27,
      "outputs": []
    },
    {
      "cell_type": "markdown",
      "metadata": {
        "id": "Qoo3SibnNcQn"
      },
      "source": [
        "Freeze all layers of the base model\n"
      ]
    },
    {
      "cell_type": "code",
      "metadata": {
        "id": "PYKSUlA0NjSn"
      },
      "source": [
        "base_model.trainable = False"
      ],
      "execution_count": 28,
      "outputs": []
    },
    {
      "cell_type": "markdown",
      "metadata": {
        "id": "h5j27cucNvsz"
      },
      "source": [
        "Add a classifier head\n",
        "Create a new model by adding a classifier on top of the base model.\n"
      ]
    },
    {
      "cell_type": "code",
      "metadata": {
        "id": "6HMlhRG8Noio"
      },
      "source": [
        "def build_mobilenetv2_model(base_model):\n",
        "  model = Sequential([\n",
        "    base_model,\n",
        "    Conv2D(256, 3,padding='same', kernel_initializer='he_uniform', activation='relu'),\n",
        "    GlobalAveragePooling2D(),\n",
        "    Dense(1, activation = 'softmax')\n",
        "  ])\n",
        "  return model"
      ],
      "execution_count": 29,
      "outputs": []
    },
    {
      "cell_type": "code",
      "metadata": {
        "id": "RfMINT7AO30R"
      },
      "source": [
        "model=build_mobilenetv2_model(base_model)"
      ],
      "execution_count": 30,
      "outputs": []
    },
    {
      "cell_type": "code",
      "metadata": {
        "colab": {
          "base_uri": "https://localhost:8080/"
        },
        "id": "031GsHbrYxv7",
        "outputId": "0d959a36-cb0a-4876-c566-05b1a42dc0f0"
      },
      "source": [
        "#Compiling our model\n",
        "model.compile(optimizer= optimizers.Adam(1e-4), loss='binary_crossentropy', metrics=['acc'])\n",
        "\n",
        "#Callbacks\n",
        "early_stopping_cb = keras.callbacks.EarlyStopping(monitor='acc', patience=40)\n",
        "\n",
        "#Fitting our model\n",
        "\n",
        "history = model.fit( train_images, train_labels, epochs = 100, callbacks=[early_stopping_cb], validation_data = (valid_images, valid_labels), verbose=2)\n"
      ],
      "execution_count": null,
      "outputs": [
        {
          "output_type": "stream",
          "name": "stdout",
          "text": [
            "Epoch 1/100\n",
            "4/4 - 6s - loss: 0.8943 - acc: 0.5391 - val_loss: 0.5731 - val_acc: 0.4141\n",
            "Epoch 2/100\n",
            "4/4 - 2s - loss: 0.5068 - acc: 0.5391 - val_loss: 0.4868 - val_acc: 0.4141\n",
            "Epoch 3/100\n",
            "4/4 - 2s - loss: 0.3257 - acc: 0.5391 - val_loss: 0.6455 - val_acc: 0.4141\n",
            "Epoch 4/100\n",
            "4/4 - 2s - loss: 0.2567 - acc: 0.5391 - val_loss: 0.5643 - val_acc: 0.4141\n",
            "Epoch 5/100\n",
            "4/4 - 2s - loss: 0.1937 - acc: 0.5391 - val_loss: 0.5636 - val_acc: 0.4141\n",
            "Epoch 6/100\n",
            "4/4 - 2s - loss: 0.1561 - acc: 0.5391 - val_loss: 0.5930 - val_acc: 0.4141\n",
            "Epoch 7/100\n",
            "4/4 - 2s - loss: 0.1143 - acc: 0.5391 - val_loss: 0.6448 - val_acc: 0.4141\n",
            "Epoch 8/100\n",
            "4/4 - 2s - loss: 0.1099 - acc: 0.5391 - val_loss: 0.6617 - val_acc: 0.4141\n",
            "Epoch 9/100\n",
            "4/4 - 2s - loss: 0.0873 - acc: 0.5391 - val_loss: 0.6071 - val_acc: 0.4141\n",
            "Epoch 10/100\n",
            "4/4 - 2s - loss: 0.0810 - acc: 0.5391 - val_loss: 0.6191 - val_acc: 0.4141\n",
            "Epoch 11/100\n",
            "4/4 - 2s - loss: 0.0622 - acc: 0.5391 - val_loss: 0.6795 - val_acc: 0.4141\n",
            "Epoch 12/100\n",
            "4/4 - 2s - loss: 0.0592 - acc: 0.5391 - val_loss: 0.7075 - val_acc: 0.4141\n",
            "Epoch 13/100\n",
            "4/4 - 2s - loss: 0.0465 - acc: 0.5391 - val_loss: 0.6744 - val_acc: 0.4141\n",
            "Epoch 14/100\n",
            "4/4 - 2s - loss: 0.0428 - acc: 0.5391 - val_loss: 0.6781 - val_acc: 0.4141\n",
            "Epoch 15/100\n",
            "4/4 - 2s - loss: 0.0387 - acc: 0.5391 - val_loss: 0.6998 - val_acc: 0.4141\n",
            "Epoch 16/100\n",
            "4/4 - 2s - loss: 0.0325 - acc: 0.5391 - val_loss: 0.7415 - val_acc: 0.4141\n",
            "Epoch 17/100\n",
            "4/4 - 2s - loss: 0.0297 - acc: 0.5391 - val_loss: 0.7476 - val_acc: 0.4141\n",
            "Epoch 18/100\n",
            "4/4 - 2s - loss: 0.0263 - acc: 0.5391 - val_loss: 0.7428 - val_acc: 0.4141\n",
            "Epoch 19/100\n",
            "4/4 - 2s - loss: 0.0249 - acc: 0.5391 - val_loss: 0.7416 - val_acc: 0.4141\n",
            "Epoch 20/100\n",
            "4/4 - 2s - loss: 0.0226 - acc: 0.5391 - val_loss: 0.7604 - val_acc: 0.4141\n",
            "Epoch 21/100\n",
            "4/4 - 2s - loss: 0.0205 - acc: 0.5391 - val_loss: 0.7849 - val_acc: 0.4141\n",
            "Epoch 22/100\n",
            "4/4 - 2s - loss: 0.0194 - acc: 0.5391 - val_loss: 0.7864 - val_acc: 0.4141\n",
            "Epoch 23/100\n",
            "4/4 - 2s - loss: 0.0175 - acc: 0.5391 - val_loss: 0.7860 - val_acc: 0.4141\n",
            "Epoch 24/100\n",
            "4/4 - 2s - loss: 0.0165 - acc: 0.5391 - val_loss: 0.7938 - val_acc: 0.4141\n",
            "Epoch 25/100\n",
            "4/4 - 2s - loss: 0.0153 - acc: 0.5391 - val_loss: 0.8085 - val_acc: 0.4141\n",
            "Epoch 26/100\n",
            "4/4 - 2s - loss: 0.0143 - acc: 0.5391 - val_loss: 0.8169 - val_acc: 0.4141\n",
            "Epoch 27/100\n",
            "4/4 - 2s - loss: 0.0135 - acc: 0.5391 - val_loss: 0.8262 - val_acc: 0.4141\n",
            "Epoch 28/100\n",
            "4/4 - 2s - loss: 0.0127 - acc: 0.5391 - val_loss: 0.8318 - val_acc: 0.4141\n",
            "Epoch 29/100\n",
            "4/4 - 2s - loss: 0.0121 - acc: 0.5391 - val_loss: 0.8387 - val_acc: 0.4141\n",
            "Epoch 30/100\n",
            "4/4 - 2s - loss: 0.0114 - acc: 0.5391 - val_loss: 0.8429 - val_acc: 0.4141\n",
            "Epoch 31/100\n"
          ]
        }
      ]
    },
    {
      "cell_type": "markdown",
      "metadata": {
        "id": "W8q44GgNPRLV"
      },
      "source": [
        "Compile the model"
      ]
    },
    {
      "cell_type": "code",
      "metadata": {
        "id": "3zOjRZqwPqq1"
      },
      "source": [
        "model.summary()"
      ],
      "execution_count": null,
      "outputs": []
    },
    {
      "cell_type": "markdown",
      "metadata": {
        "id": "HKSNuHc3PvHv"
      },
      "source": [
        "Train the model"
      ]
    },
    {
      "cell_type": "code",
      "metadata": {
        "id": "kIJIQhN2QaKt"
      },
      "source": [
        "#Display training curve\n",
        "display_training_curves(history,42,'Pretrained ConvNet as Feature Extractor')"
      ],
      "execution_count": null,
      "outputs": []
    },
    {
      "cell_type": "markdown",
      "metadata": {
        "id": "nP9oojRnVNO9"
      },
      "source": [
        "Fine Tuning"
      ]
    },
    {
      "cell_type": "code",
      "metadata": {
        "id": "6EVUx6YxVQGn"
      },
      "source": [
        "# Unfreeze all layers in base model\n",
        "base_model.trainable = True"
      ],
      "execution_count": null,
      "outputs": []
    },
    {
      "cell_type": "code",
      "metadata": {
        "id": "PkZjXXvoVa2U"
      },
      "source": [
        "#Check how many layers are int he base model\n",
        "print(\"Number of layers in th base model: \", len(base_model.layers))"
      ],
      "execution_count": null,
      "outputs": []
    },
    {
      "cell_type": "code",
      "metadata": {
        "id": "Jgm7vQSEVuhA"
      },
      "source": [
        "#Fine-tune from this layer onwards. \n",
        "# 100 layers are frozen and 54 layers are trainable\n",
        "fine_tune_at = 100\n",
        "\n",
        "#Freeze all the layers before the 'fine_tune_at' layer\n",
        "for layer in base_model.layers[:fine_tune_at]:\n",
        "  layer.trainable = False"
      ],
      "execution_count": null,
      "outputs": []
    },
    {
      "cell_type": "code",
      "metadata": {
        "id": "mi4NrdNBWOMl"
      },
      "source": [
        "#Compile the model\n",
        "model.compile(loss='sparse_categorical_crossentropy',\n",
        "              optimizer = Adam(1e-5),#use a smaller learning rate when fine-tuning\n",
        "              metrics=['accuracy'])"
      ],
      "execution_count": null,
      "outputs": []
    },
    {
      "cell_type": "code",
      "metadata": {
        "id": "sDkDHlsxWkVp"
      },
      "source": [
        "model.summary()"
      ],
      "execution_count": null,
      "outputs": []
    },
    {
      "cell_type": "code",
      "metadata": {
        "id": "8_5SVVHfXAJs"
      },
      "source": [
        "INITIAL_EPOCHS=10\n",
        "FINE_TUNE_EPOCHS=10\n",
        "TOTAL_EPOCHS=INITIAL_EPOCHS + FINE_TUNE_EPOCHS #20"
      ],
      "execution_count": null,
      "outputs": []
    },
    {
      "cell_type": "markdown",
      "metadata": {
        "id": "M787QNGZYQTW"
      },
      "source": [
        "Th training starts at epoch 11, as the inital epoch was set to 10"
      ]
    },
    {
      "cell_type": "code",
      "metadata": {
        "id": "pxYtDgSJXdqq"
      },
      "source": [
        "%%time\n",
        "history_fine = model.fit(train_batches, \n",
        "                         epochs=TOTAL_EPOCHS,#20\n",
        "                         initial_epoch = INITAIAL_EPOCHS,#10\n",
        "                         validation_data=validation_batches,\n",
        "                         steps_per_epoch=steps_per_epoch,\n",
        "                         validation_steps=validation_steps\n",
        "                         )"
      ],
      "execution_count": null,
      "outputs": []
    },
    {
      "cell_type": "code",
      "metadata": {
        "id": "kEbDvGaCYJTO"
      },
      "source": [
        "#Display training curve\n",
        "acc = history.history['accuracy'] + history_fine.history['accuracy']\n",
        "val_acc = history.history['val_accuracy'] + history_fine.history['val_accuracy']\n",
        "\n",
        "plt.figure(figsize=(8,4))\n",
        "\n",
        "plt.plot(acc,label='Train accuracy')\n",
        "plt.plot(val_acc, label='Val accuracy')\n",
        "\n",
        "plt.ylim(0.8,1)\n",
        "plt.plot([NUM_EPOCHS -1, NUM_EPOCHS -1],plt.ylim(ymin=0.55),label='Start Fine Tuning')\n",
        "plt.title('Fine-tune a Pretrained ConvNet')\n",
        "plt.legend(loc='upper left')\n",
        "\n",
        "plt.show()"
      ],
      "execution_count": null,
      "outputs": []
    },
    {
      "cell_type": "markdown",
      "metadata": {
        "id": "xOhhBRwLaHAq"
      },
      "source": [
        "Test Accuracy"
      ]
    },
    {
      "cell_type": "code",
      "metadata": {
        "id": "O6QTgtE6aGBi"
      },
      "source": [
        "#Evaluate the model on the test dataset\n",
        "score = model.evaluate(test_batches, verbose=0)\n",
        "\n",
        "#Print the accuracy\n",
        "print('\\n', 'Test accuracy:', score[1])"
      ],
      "execution_count": null,
      "outputs": []
    },
    {
      "cell_type": "markdown",
      "metadata": {
        "id": "XxsZKiNYamSw"
      },
      "source": [
        "Visualize predictions"
      ]
    },
    {
      "cell_type": "code",
      "metadata": {
        "id": "Snm0oJXrarAF"
      },
      "source": [
        "image_batch, label_batch = next(iter(test_batches))\n",
        "\n",
        "image_batch = image_batch.numpy()\n",
        "label_batch = label_batch.numpy()\n",
        "\n",
        "predicted_batch = model.predict(image_batch)\n",
        "predicted_batch = tf.squeeze(predicted_batch).numpy()\n",
        "\n",
        "predicted_class_ids = np.argmax(predicted_batch, axis = -1)\n",
        "predicted_class_names = class_names[predicted_class_ids]"
      ],
      "execution_count": null,
      "outputs": []
    },
    {
      "cell_type": "markdown",
      "metadata": {
        "id": "mLL6WNAbbqkI"
      },
      "source": [
        "we visualize some of the images and compare whether the predicted labels equal to the true labels"
      ]
    },
    {
      "cell_type": "code",
      "metadata": {
        "id": "zO4Wrlrabo2k"
      },
      "source": [
        "plt.figure(figsize=(8, 8))\n",
        "\n",
        "#Display 16 test images with predictions\n",
        "for i in range(16):\n",
        "  plt.subplot(4,4,i+1)\n",
        "  #Display each image\n",
        "  plt.imshow(image_batch[i])\n",
        "  #Set title color: green if the prediction is correct and red if the prediction is not correct\n",
        "  title_color = 'green' if predicted_class_ids[i] == label_batch[i] else 'red'\n",
        "  plt.title(predicted_class_names[i].title(), color=title_color)\n",
        "  plt.axis('off')\n",
        "\n",
        "  _ = plt.suptitle('Model Predictions')"
      ],
      "execution_count": null,
      "outputs": []
    }
  ]
}